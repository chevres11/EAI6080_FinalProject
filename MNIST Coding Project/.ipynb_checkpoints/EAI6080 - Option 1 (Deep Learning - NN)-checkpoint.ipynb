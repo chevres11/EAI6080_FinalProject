{
 "cells": [
  {
   "cell_type": "code",
   "execution_count": 1,
   "metadata": {
    "colab": {
     "base_uri": "https://localhost:8080/"
    },
    "id": "NNsx6vhhb0yw",
    "outputId": "0948637a-dfb8-4027-e841-b6f915b446d2"
   },
   "outputs": [
    {
     "name": "stdout",
     "output_type": "stream",
     "text": [
      "2.1.0\n"
     ]
    }
   ],
   "source": [
    "import math\n",
    "\n",
    "import tensorflow as tf\n",
    "from tensorflow import keras\n",
    "\n",
    "import numpy as np\n",
    "import matplotlib.pyplot as plt\n",
    "%matplotlib inline\n",
    "\n",
    "print(tf.__version__)\n"
   ]
  },
  {
   "cell_type": "code",
   "execution_count": 2,
   "metadata": {
    "colab": {
     "base_uri": "https://localhost:8080/"
    },
    "id": "tAY12lPPcBRP",
    "outputId": "2d2db542-6b21-472d-cba0-ad3dea824e52"
   },
   "outputs": [],
   "source": [
    "mnist_data = keras.datasets.mnist\n",
    "\n",
    "(x_train, y_train), (x_test, y_test) = mnist_data.load_data()\n"
   ]
  },
  {
   "cell_type": "code",
   "execution_count": 3,
   "metadata": {
    "colab": {
     "base_uri": "https://localhost:8080/"
    },
    "id": "UBjsI6yMcFap",
    "outputId": "aa5888f7-edb3-4a68-84ef-ac38887a1251"
   },
   "outputs": [
    {
     "data": {
      "text/plain": [
       "((60000, 28, 28),\n",
       " (10000, 28, 28),\n",
       " array([0, 1, 2, 3, 4, 5, 6, 7, 8, 9], dtype=uint8))"
      ]
     },
     "execution_count": 3,
     "metadata": {},
     "output_type": "execute_result"
    }
   ],
   "source": [
    "x_train.shape, x_test.shape, np.unique(y_train)\n"
   ]
  },
  {
   "cell_type": "code",
   "execution_count": 4,
   "metadata": {
    "id": "JisX_P5kdU11"
   },
   "outputs": [],
   "source": [
    "class_names = {i:cn for i, cn in enumerate(['0', '1', '2', '3', '4', '5', '6', '7', '8', '9'])}"
   ]
  },
  {
   "cell_type": "code",
   "execution_count": 5,
   "metadata": {
    "colab": {
     "base_uri": "https://localhost:8080/",
     "height": 396
    },
    "id": "a76x6WPJclnH",
    "outputId": "95e092cc-751f-40ac-a834-dc05fb522de2"
   },
   "outputs": [
    {
     "data": {
      "image/png": "[encoded data removed]",
      "text/plain": [
       "<Figure size 576x504 with 15 Axes>"
      ]
     },
     "metadata": {},
     "output_type": "display_data"
    }
   ],
   "source": [
    " def plot(images, labels, predictions=None):\n",
    "    # create a grid with 5 columns\n",
    "    n_cols = min(5, len(images))\n",
    "    n_rows = math.ceil(len(images) / n_cols)\n",
    "    fig, axes = plt.subplots(n_rows, n_cols, figsize=(n_cols+3, n_rows+4))\n",
    "    \n",
    "    if predictions is None:\n",
    "        predictions = [None] * len(labels)\n",
    "        \n",
    "    for i, (x, y_true, y_pred) in enumerate(zip(images, labels, predictions)):\n",
    "        ax = axes.flat[i]\n",
    "        ax.imshow(x, cmap=plt.cm.binary)\n",
    "        \n",
    "        ax.set_title(f\"lbl: {class_names[y_true]}\")\n",
    "        \n",
    "        if y_pred is not None:\n",
    "            ax.set_xlabel(f\"pred: {class_names[y_pred]}\")\n",
    "    \n",
    "        ax.set_xticks([])\n",
    "        ax.set_yticks([])\n",
    "\n",
    "# plot first few images\n",
    "plot(x_train[:15], y_train[:15]) "
   ]
  },
  {
   "cell_type": "code",
   "execution_count": 6,
   "metadata": {
    "id": "E-gu9LwIcreq"
   },
   "outputs": [],
   "source": [
    " # scale the values between 0 and 1 for both training and testing set\n",
    "x_train = x_train / 255.0\n",
    "x_test = x_test / 255.0"
   ]
  },
  {
   "cell_type": "code",
   "execution_count": 12,
   "metadata": {
    "colab": {
     "base_uri": "https://localhost:8080/"
    },
    "id": "_kAN8rNQdln2",
    "outputId": "8c88394d-1beb-455f-d0f6-13edba142770"
   },
   "outputs": [
    {
     "name": "stdout",
     "output_type": "stream",
     "text": [
      "Train on 48000 samples, validate on 12000 samples\n",
      "Epoch 1/10\n",
      "48000/48000 [==============================] - 2s 47us/sample - loss: 0.3559 - accuracy: 0.9027 - val_loss: 0.1938 - val_accuracy: 0.9465\n",
      "Epoch 2/10\n",
      "48000/48000 [==============================] - 2s 42us/sample - loss: 0.1648 - accuracy: 0.9523 - val_loss: 0.1528 - val_accuracy: 0.9555\n",
      "Epoch 3/10\n",
      "48000/48000 [==============================] - 2s 40us/sample - loss: 0.1186 - accuracy: 0.9657 - val_loss: 0.1233 - val_accuracy: 0.9635\n",
      "Epoch 4/10\n",
      "48000/48000 [==============================] - 2s 42us/sample - loss: 0.0933 - accuracy: 0.9731 - val_loss: 0.1130 - val_accuracy: 0.9665\n",
      "Epoch 5/10\n",
      "48000/48000 [==============================] - 2s 44us/sample - loss: 0.0750 - accuracy: 0.9785 - val_loss: 0.1014 - val_accuracy: 0.9707\n",
      "Epoch 6/10\n",
      "48000/48000 [==============================] - 2s 42us/sample - loss: 0.0625 - accuracy: 0.9812 - val_loss: 0.1032 - val_accuracy: 0.9697\n",
      "Epoch 7/10\n",
      "48000/48000 [==============================] - 2s 40us/sample - loss: 0.0513 - accuracy: 0.9856 - val_loss: 0.1007 - val_accuracy: 0.9698\n",
      "Epoch 8/10\n",
      "48000/48000 [==============================] - 2s 40us/sample - loss: 0.0438 - accuracy: 0.9868 - val_loss: 0.0946 - val_accuracy: 0.9715\n",
      "Epoch 9/10\n",
      "48000/48000 [==============================] - 2s 40us/sample - loss: 0.0366 - accuracy: 0.9902 - val_loss: 0.0929 - val_accuracy: 0.9730\n",
      "Epoch 10/10\n",
      "48000/48000 [==============================] - 2s 42us/sample - loss: 0.0315 - accuracy: 0.9908 - val_loss: 0.0898 - val_accuracy: 0.9732\n"
     ]
    },
    {
     "data": {
      "text/plain": [
       "<tensorflow.python.keras.callbacks.History at 0x255f53ff308>"
      ]
     },
     "execution_count": 12,
     "metadata": {},
     "output_type": "execute_result"
    }
   ],
   "source": [
    "model = keras.Sequential(layers=[\n",
    "    keras.layers.Flatten(input_shape=(28, 28)),\n",
    "    keras.layers.Dense(128, activation=\"relu\"),\n",
    "    keras.layers.Dense(10, activation=\"sigmoid\")\n",
    "])\n",
    "model.compile(optimizer=\"adam\", loss=\"sparse_categorical_crossentropy\", metrics=[\"accuracy\"])\n",
    "model.fit(x_train, y_train, batch_size = 60, epochs = 10, validation_split = 0.2)\n"
   ]
  },
  {
   "cell_type": "code",
   "execution_count": 13,
   "metadata": {
    "colab": {
     "base_uri": "https://localhost:8080/"
    },
    "id": "38KGikWfdr1m",
    "outputId": "157f72dd-b7f1-4dbb-9756-c458486bc054"
   },
   "outputs": [
    {
     "name": "stdout",
     "output_type": "stream",
     "text": [
      "10000/10000 [==============================] - 1s 62us/sample - loss: 0.0807 - accuracy: 0.9767\n",
      "Accuracy = 97.67 %\n"
     ]
    }
   ],
   "source": [
    "loss, accuracy = model.evaluate(x_test, y_test)\n",
    "print(f\"Accuracy = {accuracy*100:.2f} %\")"
   ]
  },
  {
   "cell_type": "code",
   "execution_count": 14,
   "metadata": {
    "colab": {
     "base_uri": "https://localhost:8080/"
    },
    "id": "Pz55XxclfGhO",
    "outputId": "4824cfc6-6e2d-4e98-cf28-2c01587b04b7"
   },
   "outputs": [
    {
     "name": "stdout",
     "output_type": "stream",
     "text": [
      "[7 2 1 ... 4 5 6]\n",
      "[7 2 1 ... 4 5 6]\n",
      "[7 2 1 ... 4 5 6]\n"
     ]
    }
   ],
   "source": [
    "probs = model.predict(x_test)\n",
    "print(probs.argmax(axis=1))\n",
    "\n",
    "#another way to do the same thing\n",
    "print(model.predict(x_test).argsort()[:,-1])\n",
    "\n",
    "# another way to do the same thing\n",
    "print(model.predict_classes(x_test))"
   ]
  },
  {
   "cell_type": "code",
   "execution_count": 15,
   "metadata": {
    "colab": {
     "base_uri": "https://localhost:8080/",
     "height": 535
    },
    "id": "slfjDd2ufgRT",
    "outputId": "1c7d81fd-d8b6-4a61-c5ce-3103e428a9d9"
   },
   "outputs": [
    {
     "data": {
      "image/png": "[encoded data removed]",
      "text/plain": [
       "<Figure size 576x576 with 20 Axes>"
      ]
     },
     "metadata": {},
     "output_type": "display_data"
    }
   ],
   "source": [
    "preds = model.predict_classes(x_test)\n",
    "\n",
    "# plot 20 random data\n",
    "rand_idxs = np.random.permutation(len(x_test))[:20]\n",
    "\n",
    "plot(x_test[rand_idxs], y_test[rand_idxs], preds[rand_idxs])"
   ]
  },
  {
   "cell_type": "code",
   "execution_count": 17,
   "metadata": {
    "id": "GhDUn5AHf-KN"
   },
   "outputs": [
    {
     "name": "stdout",
     "output_type": "stream",
     "text": [
      "Train on 48000 samples, validate on 12000 samples\n",
      "Epoch 1/10\n",
      "48000/48000 [==============================] - 2s 47us/sample - loss: 0.0038 - accuracy: 0.9996 - val_loss: 0.0945 - val_accuracy: 0.9767\n",
      "Epoch 2/10\n",
      "48000/48000 [==============================] - 2s 39us/sample - loss: 0.0028 - accuracy: 0.9997 - val_loss: 0.0940 - val_accuracy: 0.9773\n",
      "Epoch 3/10\n",
      "48000/48000 [==============================] - 2s 41us/sample - loss: 0.0025 - accuracy: 0.9997 - val_loss: 0.0932 - val_accuracy: 0.9772\n",
      "Epoch 4/10\n",
      "48000/48000 [==============================] - 2s 39us/sample - loss: 0.0023 - accuracy: 0.9997 - val_loss: 0.0935 - val_accuracy: 0.9778\n",
      "Epoch 5/10\n",
      "48000/48000 [==============================] - 2s 39us/sample - loss: 0.0022 - accuracy: 0.9997 - val_loss: 0.0938 - val_accuracy: 0.9775\n",
      "Epoch 6/10\n",
      "48000/48000 [==============================] - 2s 39us/sample - loss: 0.0020 - accuracy: 0.9998 - val_loss: 0.0944 - val_accuracy: 0.9780\n",
      "Epoch 7/10\n",
      "48000/48000 [==============================] - 2s 40us/sample - loss: 0.0019 - accuracy: 0.9997 - val_loss: 0.0948 - val_accuracy: 0.9777\n",
      "Epoch 8/10\n",
      "48000/48000 [==============================] - 2s 44us/sample - loss: 0.0018 - accuracy: 0.9998 - val_loss: 0.0946 - val_accuracy: 0.9775\n",
      "Epoch 9/10\n",
      "48000/48000 [==============================] - 2s 39us/sample - loss: 0.0018 - accuracy: 0.9997 - val_loss: 0.0948 - val_accuracy: 0.9779\n",
      "Epoch 10/10\n",
      "48000/48000 [==============================] - 2s 39us/sample - loss: 0.0017 - accuracy: 0.9997 - val_loss: 0.0946 - val_accuracy: 0.9782\n"
     ]
    },
    {
     "data": {
      "text/plain": [
       "<tensorflow.python.keras.callbacks.History at 0x255f73cb348>"
      ]
     },
     "execution_count": 17,
     "metadata": {},
     "output_type": "execute_result"
    }
   ],
   "source": [
    "model2 = keras.Sequential(layers=[\n",
    "    keras.layers.Flatten(input_shape=(28, 28)),\n",
    "    keras.layers.Dense(128, activation=\"relu\"),\n",
    "    keras.layers.Dense(10, activation=\"softmax\")\n",
    "])\n",
    "model.compile(optimizer=\"adamax\", loss=\"sparse_categorical_crossentropy\", metrics=[\"accuracy\"])\n",
    "model.fit(x_train, y_train, batch_size = 60, epochs = 10, validation_split = 0.2)\n"
   ]
  },
  {
   "cell_type": "code",
   "execution_count": 19,
   "metadata": {},
   "outputs": [
    {
     "name": "stdout",
     "output_type": "stream",
     "text": [
      "Train on 48000 samples, validate on 12000 samples\n",
      "Epoch 1/5\n",
      "48000/48000 [==============================] - 2s 51us/sample - loss: 0.0015 - accuracy: 0.9997 - val_loss: 0.1184 - val_accuracy: 0.9773\n",
      "Epoch 2/5\n",
      "48000/48000 [==============================] - 2s 44us/sample - loss: 0.0013 - accuracy: 0.9997 - val_loss: 0.1179 - val_accuracy: 0.9773\n",
      "Epoch 3/5\n",
      "48000/48000 [==============================] - 2s 42us/sample - loss: 0.0012 - accuracy: 0.9997 - val_loss: 0.1200 - val_accuracy: 0.9761\n",
      "Epoch 4/5\n",
      "48000/48000 [==============================] - 2s 42us/sample - loss: 0.0012 - accuracy: 0.9997 - val_loss: 0.1173 - val_accuracy: 0.9780\n",
      "Epoch 5/5\n",
      "48000/48000 [==============================] - 2s 42us/sample - loss: 0.0012 - accuracy: 0.9997 - val_loss: 0.1218 - val_accuracy: 0.9758\n"
     ]
    },
    {
     "data": {
      "text/plain": [
       "<tensorflow.python.keras.callbacks.History at 0x255f88b6908>"
      ]
     },
     "execution_count": 19,
     "metadata": {},
     "output_type": "execute_result"
    }
   ],
   "source": [
    "model3 = keras.Sequential(layers=[\n",
    "    keras.layers.Flatten(input_shape=(28, 28)),\n",
    "    keras.layers.Dense(128, activation=\"relu\"),\n",
    "    keras.layers.Dense(10, activation=\"sigmoid\")\n",
    "])\n",
    "model.compile(optimizer=\"RMSprop\", loss=\"sparse_categorical_crossentropy\", metrics=[\"accuracy\"])\n",
    "model.fit(x_train, y_train, batch_size = 60, epochs = 5, validation_split = 0.2)\n"
   ]
  },
  {
   "cell_type": "code",
   "execution_count": null,
   "metadata": {},
   "outputs": [],
   "source": []
  }
 ],
 "metadata": {
  "colab": {
   "name": "HW3_MiguelChevres.ipynb",
   "provenance": []
  },
  "kernelspec": {
   "display_name": "Python 3",
   "language": "python",
   "name": "python3"
  },
  "language_info": {
   "codemirror_mode": {
    "name": "ipython",
    "version": 3
   },
   "file_extension": ".py",
   "mimetype": "text/x-python",
   "name": "python",
   "nbconvert_exporter": "python",
   "pygments_lexer": "ipython3",
   "version": "3.6.4"
  },
  "widgets": {
   "application/vnd.jupyter.widget-state+json": {
    "5e4c1d132f934c93aea7cc0480726e67": {
     "model_module": "@jupyter-widgets/base",
     "model_name": "LayoutModel",
     "state": {
      "_model_module": "@jupyter-widgets/base",
      "_model_module_version": "1.2.0",
      "_model_name": "LayoutModel",
      "_view_count": null,
      "_view_module": "@jupyter-widgets/base",
      "_view_module_version": "1.2.0",
      "_view_name": "LayoutView",
      "align_content": null,
      "align_items": null,
      "align_self": null,
      "border": null,
      "bottom": null,
      "display": null,
      "flex": null,
      "flex_flow": null,
      "grid_area": null,
      "grid_auto_columns": null,
      "grid_auto_flow": null,
      "grid_auto_rows": null,
      "grid_column": null,
      "grid_gap": null,
      "grid_row": null,
      "grid_template_areas": null,
      "grid_template_columns": null,
      "grid_template_rows": null,
      "height": null,
      "justify_content": null,
      "justify_items": null,
      "left": null,
      "margin": null,
      "max_height": null,
      "max_width": null,
      "min_height": null,
      "min_width": null,
      "object_fit": null,
      "object_position": null,
      "order": null,
      "overflow": null,
      "overflow_x": null,
      "overflow_y": null,
      "padding": null,
      "right": null,
      "top": null,
      "visibility": null,
      "width": null
     }
    },
    "6652627335664a0fbd20b8237dd17417": {
     "model_module": "@jupyter-widgets/controls",
     "model_name": "IntSliderModel",
     "state": {
      "_dom_classes": [],
      "_model_module": "@jupyter-widgets/controls",
      "_model_module_version": "1.5.0",
      "_model_name": "IntSliderModel",
      "_view_count": null,
      "_view_module": "@jupyter-widgets/controls",
      "_view_module_version": "1.5.0",
      "_view_name": "IntSliderView",
      "continuous_update": true,
      "description": "Image index",
      "description_tooltip": null,
      "disabled": false,
      "layout": "IPY_MODEL_dab7ed46dff247a2a8f5a9b62aae348d",
      "max": 9999,
      "min": 0,
      "orientation": "horizontal",
      "readout": true,
      "readout_format": "d",
      "step": 1,
      "style": "IPY_MODEL_8fcc43b55c394266a7c60e2c8ae25d82",
      "value": 2683
     }
    },
    "87e05194a5d24e2f969718f9925c93ff": {
     "model_module": "@jupyter-widgets/output",
     "model_name": "OutputModel",
     "state": {
      "_dom_classes": [],
      "_model_module": "@jupyter-widgets/output",
      "_model_module_version": "1.0.0",
      "_model_name": "OutputModel",
      "_view_count": null,
      "_view_module": "@jupyter-widgets/output",
      "_view_module_version": "1.0.0",
      "_view_name": "OutputView",
      "layout": "IPY_MODEL_5e4c1d132f934c93aea7cc0480726e67",
      "msg_id": "",
      "outputs": [
       {
        "image/png": "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\n",
        "metadata": {
         "needs_background": "light",
         "tags": []
        },
        "output_type": "display_data",
        "text/plain": "<Figure size 720x360 with 2 Axes>"
       }
      ]
     }
    },
    "8fcc43b55c394266a7c60e2c8ae25d82": {
     "model_module": "@jupyter-widgets/controls",
     "model_name": "SliderStyleModel",
     "state": {
      "_model_module": "@jupyter-widgets/controls",
      "_model_module_version": "1.5.0",
      "_model_name": "SliderStyleModel",
      "_view_count": null,
      "_view_module": "@jupyter-widgets/base",
      "_view_module_version": "1.2.0",
      "_view_name": "StyleView",
      "description_width": "",
      "handle_color": null
     }
    },
    "af70038875fb46c1851607d30c367449": {
     "model_module": "@jupyter-widgets/base",
     "model_name": "LayoutModel",
     "state": {
      "_model_module": "@jupyter-widgets/base",
      "_model_module_version": "1.2.0",
      "_model_name": "LayoutModel",
      "_view_count": null,
      "_view_module": "@jupyter-widgets/base",
      "_view_module_version": "1.2.0",
      "_view_name": "LayoutView",
      "align_content": null,
      "align_items": null,
      "align_self": null,
      "border": null,
      "bottom": null,
      "display": null,
      "flex": null,
      "flex_flow": null,
      "grid_area": null,
      "grid_auto_columns": null,
      "grid_auto_flow": null,
      "grid_auto_rows": null,
      "grid_column": null,
      "grid_gap": null,
      "grid_row": null,
      "grid_template_areas": null,
      "grid_template_columns": null,
      "grid_template_rows": null,
      "height": null,
      "justify_content": null,
      "justify_items": null,
      "left": null,
      "margin": null,
      "max_height": null,
      "max_width": null,
      "min_height": null,
      "min_width": null,
      "object_fit": null,
      "object_position": null,
      "order": null,
      "overflow": null,
      "overflow_x": null,
      "overflow_y": null,
      "padding": null,
      "right": null,
      "top": null,
      "visibility": null,
      "width": null
     }
    },
    "dab7ed46dff247a2a8f5a9b62aae348d": {
     "model_module": "@jupyter-widgets/base",
     "model_name": "LayoutModel",
     "state": {
      "_model_module": "@jupyter-widgets/base",
      "_model_module_version": "1.2.0",
      "_model_name": "LayoutModel",
      "_view_count": null,
      "_view_module": "@jupyter-widgets/base",
      "_view_module_version": "1.2.0",
      "_view_name": "LayoutView",
      "align_content": null,
      "align_items": null,
      "align_self": null,
      "border": null,
      "bottom": null,
      "display": null,
      "flex": null,
      "flex_flow": null,
      "grid_area": null,
      "grid_auto_columns": null,
      "grid_auto_flow": null,
      "grid_auto_rows": null,
      "grid_column": null,
      "grid_gap": null,
      "grid_row": null,
      "grid_template_areas": null,
      "grid_template_columns": null,
      "grid_template_rows": null,
      "height": null,
      "justify_content": null,
      "justify_items": null,
      "left": null,
      "margin": null,
      "max_height": null,
      "max_width": null,
      "min_height": null,
      "min_width": null,
      "object_fit": null,
      "object_position": null,
      "order": null,
      "overflow": null,
      "overflow_x": null,
      "overflow_y": null,
      "padding": null,
      "right": null,
      "top": null,
      "visibility": null,
      "width": null
     }
    },
    "e086cbb2b99d4c5fa4fc03b4587ea1f4": {
     "model_module": "@jupyter-widgets/controls",
     "model_name": "VBoxModel",
     "state": {
      "_dom_classes": [
       "widget-interact"
      ],
      "_model_module": "@jupyter-widgets/controls",
      "_model_module_version": "1.5.0",
      "_model_name": "VBoxModel",
      "_view_count": null,
      "_view_module": "@jupyter-widgets/controls",
      "_view_module_version": "1.5.0",
      "_view_name": "VBoxView",
      "box_style": "",
      "children": [
       "IPY_MODEL_6652627335664a0fbd20b8237dd17417",
       "IPY_MODEL_87e05194a5d24e2f969718f9925c93ff"
      ],
      "layout": "IPY_MODEL_af70038875fb46c1851607d30c367449"
     }
    }
   }
  }
 },
 "nbformat": 4,
 "nbformat_minor": 1
}
